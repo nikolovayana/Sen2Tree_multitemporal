{
 "cells": [
  {
   "cell_type": "code",
   "execution_count": 2,
   "metadata": {},
   "outputs": [
    {
     "data": {
      "text/html": [
       "\n",
       "            <style>\n",
       "                .geemap-dark {\n",
       "                    --jp-widgets-color: white;\n",
       "                    --jp-widgets-label-color: white;\n",
       "                    --jp-ui-font-color1: white;\n",
       "                    --jp-layout-color2: #454545;\n",
       "                    background-color: #383838;\n",
       "                }\n",
       "\n",
       "                .geemap-dark .jupyter-button {\n",
       "                    --jp-layout-color3: #383838;\n",
       "                }\n",
       "\n",
       "                .geemap-colab {\n",
       "                    background-color: var(--colab-primary-surface-color, white);\n",
       "                }\n",
       "\n",
       "                .geemap-colab .jupyter-button {\n",
       "                    --jp-layout-color3: var(--colab-primary-surface-color, white);\n",
       "                }\n",
       "            </style>\n",
       "            "
      ],
      "text/plain": [
       "<IPython.core.display.HTML object>"
      ]
     },
     "metadata": {},
     "output_type": "display_data"
    },
    {
     "name": "stdout",
     "output_type": "stream",
     "text": [
      "Converting Earth Engine JavaScripts to Python scripts...\n",
      "\n",
      "Processing 1/3: /mnt/d/EOai4BIO/Code/Sen2Tree_multitemporal/javascript_gee/1-salzach-cloudfree.js\n",
      "continue...\n",
      "Processing 2/3: /mnt/d/EOai4BIO/Code/Sen2Tree_multitemporal/javascript_gee/2-salzach-stacked-images.js\n",
      "Processing 3/3: /mnt/d/EOai4BIO/Code/Sen2Tree_multitemporal/javascript_gee/4-salzach_multitemp_classification.js\n",
      "An error occurred: list assignment index out of range. The closing curly bracket could not be found in Line 254: var getPrincipalComponents = function(centered, scale, region) {\n",
      ". Please reformat the function definition and make sure that both the opening and closing curly brackets appear on the same line as the function keyword. \n",
      "Python scripts saved at: /mnt/d/EOai4BIO/Code/Sen2Tree_multitemporal/javascript_gee\n"
     ]
    }
   ],
   "source": [
    "from geemap.conversion import *\n",
    "\n",
    "# Change js_dir to your own folder containing your Earth Engine JavaScripts,\n",
    "# such as js_dir = '/path/to/your/js/folder'\n",
    "js_dir = \"/mnt/d/EOai4BIO/Code/Sen2Tree_multitemporal/javascript_gee\"\n",
    "\n",
    "# Convert all Earth Engine JavaScripts in a folder recursively to Python scripts.\n",
    "js_to_python_dir(in_dir=js_dir, out_dir=js_dir, use_qgis=True)\n",
    "print(\"Python scripts saved at: {}\".format(js_dir))"
   ]
  }
 ],
 "metadata": {
  "kernelspec": {
   "display_name": "env",
   "language": "python",
   "name": "python3"
  },
  "language_info": {
   "codemirror_mode": {
    "name": "ipython",
    "version": 3
   },
   "file_extension": ".py",
   "mimetype": "text/x-python",
   "name": "python",
   "nbconvert_exporter": "python",
   "pygments_lexer": "ipython3",
   "version": "3.11.8"
  }
 },
 "nbformat": 4,
 "nbformat_minor": 2
}
